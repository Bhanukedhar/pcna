{
 "cells": [
  {
   "cell_type": "code",
   "execution_count": 5,
   "metadata": {},
   "outputs": [],
   "source": [
    "import networkx as nx\n",
    "def answer_one():\n",
    "    return nx.read_adjlist('Employee_Movie_Choices.txt',delimiter=\"\\t\")\n",
    "def answer_two():\n",
    "    G = answer_one()\n",
    "    employees = set(['Andy','Claude','Frida','Georgia','Joan','Lee','Pablo','Vincent'])\n",
    "    movies = set(['Anaconda','Mean Girls','The Matrix','Monty Python and the Holy Grail','Snakes on a Plane','The Shawshank Redemption','The Social Network','Forrest Gump','Kung Fu Panda','The Dark Knight','The Godfather'])\n",
    "    for node in G.nodes():\n",
    "        if node in employees:\n",
    "            G.add_node(node, type=\"employee\")\n",
    "        elif node in movies:\n",
    "            G.add_node(node, type=\"movie\")\n",
    "    return G"
   ]
  },
  {
   "cell_type": "code",
   "execution_count": 3,
   "metadata": {},
   "outputs": [
    {
     "data": {
      "text/plain": [
       "True"
      ]
     },
     "execution_count": 3,
     "metadata": {},
     "output_type": "execute_result"
    }
   ],
   "source": [
    "G1 = answer_one()\n",
    "nx.is_bipartite(G1)"
   ]
  },
  {
   "cell_type": "code",
   "execution_count": 4,
   "metadata": {},
   "outputs": [
    {
     "data": {
      "text/plain": [
       "19"
      ]
     },
     "execution_count": 4,
     "metadata": {},
     "output_type": "execute_result"
    }
   ],
   "source": [
    "G1.number_of_nodes()"
   ]
  },
  {
   "cell_type": "code",
   "execution_count": 6,
   "metadata": {},
   "outputs": [
    {
     "data": {
      "text/plain": [
       "24"
      ]
     },
     "execution_count": 6,
     "metadata": {},
     "output_type": "execute_result"
    }
   ],
   "source": [
    "G1.number_of_edges()"
   ]
  },
  {
   "cell_type": "code",
   "execution_count": 7,
   "metadata": {},
   "outputs": [
    {
     "name": "stdout",
     "output_type": "stream",
     "text": [
      "Andy employee\n",
      "Anaconda movie\n",
      "Mean Girls movie\n",
      "The Matrix movie\n",
      "Claude employee\n",
      "Monty Python and the Holy Grail movie\n",
      "Snakes on a Plane movie\n",
      "Frida employee\n",
      "The Shawshank Redemption movie\n",
      "The Social Network movie\n",
      "Georgia employee\n",
      "Joan employee\n",
      "Forrest Gump movie\n",
      "Kung Fu Panda movie\n",
      "Lee employee\n",
      "Pablo employee\n",
      "The Dark Knight movie\n",
      "Vincent employee\n",
      "The Godfather movie\n"
     ]
    }
   ],
   "source": [
    "G1 = answer_two()\n",
    "for node in G1.nodes():\n",
    "    print(node,G1.nodes[node]['type'])"
   ]
  },
  {
   "cell_type": "code",
   "execution_count": null,
   "metadata": {},
   "outputs": [],
   "source": []
  }
 ],
 "metadata": {
  "kernelspec": {
   "display_name": "Python 3",
   "language": "python",
   "name": "python3"
  },
  "language_info": {
   "codemirror_mode": {
    "name": "ipython",
    "version": 3
   },
   "file_extension": ".py",
   "mimetype": "text/x-python",
   "name": "python",
   "nbconvert_exporter": "python",
   "pygments_lexer": "ipython3",
   "version": "3.7.4"
  }
 },
 "nbformat": 4,
 "nbformat_minor": 2
}
